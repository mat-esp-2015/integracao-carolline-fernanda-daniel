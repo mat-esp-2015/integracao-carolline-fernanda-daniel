{
 "cells": [
  {
   "cell_type": "markdown",
   "metadata": {},
   "source": [
    "**Course website**: http://www.leouieda.com/matematica-especial\n",
    "\n",
    "**Note**: This notebook is part of the course \"Matemática Especial I\" of the [Universidade do Estado do Rio de Janeiro](http://www.uerj.br/). All content can be freely used and adapted under the terms of the \n",
    "[Creative Commons Attribution 4.0 International License](http://creativecommons.org/licenses/by/4.0/).\n",
    "\n",
    "![Creative Commons License](https://i.creativecommons.org/l/by/4.0/88x31.png)"
   ]
  },
  {
   "cell_type": "markdown",
   "metadata": {},
   "source": [
    "# Integração Numérica"
   ]
  },
  {
   "cell_type": "markdown",
   "metadata": {},
   "source": [
    "## Imports\n",
    "\n",
    "Coloque **todos** os `import` na célula abaixo. Não se esqueça do `%matplotlib inline` para que os gráficos apareçam no notebook."
   ]
  },
  {
   "cell_type": "code",
   "execution_count": 3,
   "metadata": {
    "collapsed": true
   },
   "outputs": [],
   "source": [
    "# Dessa vez vamos precisar da biblioteca matemática \"math\"\n",
    "# Ela define funções como sin, cos, tan, exp e constantes como pi\n",
    "import math\n",
    "import matplotlib.pyplot as plt\n",
    "%matplotlib inline"
   ]
  },
  {
   "cell_type": "markdown",
   "metadata": {},
   "source": [
    "## Regra dos retângulos\n",
    "\n",
    "O jeito mais simples de integração numérica é a regra dos retângulos. Nela, aproximamos a integral pela soma das áreas de retângulos. Cada retângulo se encontra abaixo de um dos pontos dos dados. A largura do retângulo é o espaçamento entre os dados $\\Delta$. A altura do retângulo é o valor do dado naquela posição $d_i$.\n",
    "\n",
    "Se tivermos nossos dados em um vetor de dados $\\bar{d}$ (**nota**: vetores serão representados com uma barra em cima):\n",
    "\n",
    "$$\n",
    "\\bar{d} = \\left[ d_1 ~ d_2 ~ d_3 ~ \\ldots ~ d_N \\right],\n",
    "$$\n",
    "\n",
    "a integral poderá ser aproximada pela soma das áreas dos retângulos:\n",
    "\n",
    "$$\n",
    "A = \\sum\\limits_{i=1}^{N} \\Delta d_i\n",
    "$$"
   ]
  },
  {
   "cell_type": "markdown",
   "metadata": {},
   "source": [
    "### Algoritmo\n",
    "\n",
    "Utilize a célula vazia abaixo (tipo Markdown) para colocar uma descrição do algoritmo em português (não em código). Não se esqueça de relacionar os passos do algoritmo com as fórmulas matemáticas do método.\n",
    "\n",
    "**Dicas**:\n",
    "\n",
    "* Help sobre Markdown: https://help.github.com/articles/markdown-basics/\n",
    "* Como utilizar fórmulas matemáticas: https://www.sharelatex.com/learn/Mathematical_expressions\n"
   ]
  },
  {
   "cell_type": "markdown",
   "metadata": {},
   "source": [
    "Para calcular a integral pela soma das áreas dos retângulos, sabendo que a largura do retângulo é o espaçamento entre os dados Δ e a altura do retângulo é o valor do dado naquela posição di, devemos efetuar a soma de todas as áreas, sendo o ultimo retângulo o N.\n",
    "\n"
   ]
  },
  {
   "cell_type": "markdown",
   "metadata": {},
   "source": [
    "### Dados para teste\n",
    "\n",
    "Vamos utilizar dados gerados a partir de uma função $d(t) = \\cos(t)$ para testar o método de integração. A vantagem do cosseno é que sabemos quanto deve ser a integral:\n",
    "\n",
    "$$\n",
    "\\int\\limits_a^b \\cos(t) dt = \\sin(b) - \\sin(a)\n",
    "$$\n",
    "\n",
    "O código abaixo gera duas listas: uma com os tempos variando entre os limites de integração; outra com os valores correspondentes do cosseno."
   ]
  },
  {
   "cell_type": "code",
   "execution_count": 4,
   "metadata": {
    "collapsed": false
   },
   "outputs": [
    {
     "name": "stdout",
     "output_type": "stream",
     "text": [
      "Espaçamento entre os dados: 0.0320570678937734\n"
     ]
    }
   ],
   "source": [
    "# inicio e fim são os intervalos de integração\n",
    "inicio = 0\n",
    "fim = math.pi/2 # Funções trigonométricas utilizam ângulos em radianos!\n",
    "N = 50\n",
    "# Precisamos saber o intervalo entre cada ponto dos dados\n",
    "# A divisão é por N - 1 pois existem N - 1 intervalos entre N pontos\n",
    "intervalo = (fim - inicio)/(N - 1)\n",
    "print(\"Espaçamento entre os dados:\", intervalo)\n",
    "tempos = []\n",
    "dados = []\n",
    "for i in range(N):\n",
    "    t = inicio + i*intervalo\n",
    "    tempos.append(t)\n",
    "    dados.append(math.cos(t))"
   ]
  },
  {
   "cell_type": "markdown",
   "metadata": {},
   "source": [
    "Utilize a célula abaixo para gerar um gráfico de `dados` por `tempos`."
   ]
  },
  {
   "cell_type": "code",
   "execution_count": 9,
   "metadata": {
    "collapsed": false
   },
   "outputs": [
    {
     "data": {
      "text/plain": [
       "<matplotlib.text.Text at 0x68dddd8>"
      ]
     },
     "execution_count": 9,
     "metadata": {},
     "output_type": "execute_result"
    },
    {
     "data": {
      "image/png": "[encoded data removed]",
      "text/plain": [
       "<matplotlib.figure.Figure at 0x68bba58>"
      ]
     },
     "metadata": {},
     "output_type": "display_data"
    }
   ],
   "source": [
    "plt.figure()\n",
    "plt.plot(tempos,dados,\"-k\")\n",
    "plt.xlabel(\"Tempos\")\n",
    "plt.ylabel(\"Dados\")\n"
   ]
  },
  {
   "cell_type": "markdown",
   "metadata": {},
   "source": [
    "### Implementação\n",
    "\n",
    "Implemente a regra dos retângulos para integrar os dados gerados acima. Coloque seu cógido na célula abaixo."
   ]
  },
  {
   "cell_type": "code",
   "execution_count": 10,
   "metadata": {
    "collapsed": false
   },
   "outputs": [
    {
     "name": "stdout",
     "output_type": "stream",
     "text": [
      "1.01594289451325\n"
     ]
    }
   ],
   "source": [
    "#a função len fornece a quantidade de valores de \"tempos\"\n",
    "N = len(tempos)\n",
    "som = 0 #nova variável\n",
    "for i in range(0,N,1): #i variando de 0 a N\n",
    "    som = som + intervalo*dados[i] #cada vez que passar por aqui soma à \"som\" o valor de dados na posição i vezes o intervalo\n",
    "print(som)"
   ]
  },
  {
   "cell_type": "markdown",
   "metadata": {},
   "source": [
    "Nas células abaixo calcule e imprima:\n",
    "\n",
    "1. A solução analítica (verdadeira) para a integral\n",
    "2. O erro cometido $E = \\left|res_{true} - res_{calc}\\right|$\n",
    "\n",
    "Dica: a função `abs` calcula o valor absoluto de um número."
   ]
  },
  {
   "cell_type": "code",
   "execution_count": 11,
   "metadata": {
    "collapsed": false
   },
   "outputs": [
    {
     "name": "stdout",
     "output_type": "stream",
     "text": [
      "1.0\n"
     ]
    }
   ],
   "source": [
    "integral = math.sin(fim) - math.sin(inicio) #sen(pi/2) - sen(0)\n",
    "print(integral)"
   ]
  },
  {
   "cell_type": "code",
   "execution_count": 12,
   "metadata": {
    "collapsed": false
   },
   "outputs": [
    {
     "name": "stdout",
     "output_type": "stream",
     "text": [
      "0.01594289451325004\n"
     ]
    }
   ],
   "source": [
    "dif = integral - som #diferença entre o valor verdadeiro e o valor calculado da integral\n",
    "E = abs(dif) #valor absoluto da diferença\n",
    "print(E)"
   ]
  },
  {
   "cell_type": "markdown",
   "metadata": {},
   "source": [
    "**Responda na célula abaixo:** Por que o erro não é zero e quais são os fatores que influenciam o erro?"
   ]
  },
  {
   "cell_type": "markdown",
   "metadata": {},
   "source": [
    "Pois a integral é a área em baixo da curva apresentada, como o metódo dos retângulos possui partes em baixo da curva que nao possui parte alguma de retângulo e também partes de retângulos acima da curva sempre terá um erro maior que 0."
   ]
  },
  {
   "cell_type": "markdown",
   "metadata": {},
   "source": []
  },
  {
   "cell_type": "markdown",
   "metadata": {},
   "source": [
    "### Resultado esperado\n",
    "\n",
    "No caso acima estamos integrando o cosseno de 0 a $\\pi/2$, então o valor esperado da integral é 1. Seu resultado não será exatamente 1 mas deve estar entre 0.9 e 1.1."
   ]
  },
  {
   "cell_type": "markdown",
   "metadata": {},
   "source": [
    "## Regra dos trapézios\n",
    "\n",
    "A regra dos trapézios é parecida com a regra dos retângulos. Mas utilizaremos a área de um trapézio ao invés da área de um retângulo. O trapézio será definido com base em dois pontos adjacentes nos dados ($d_i$ e $d_{i+1}$, por exemplo).\n",
    "\n",
    "$$\n",
    "A = \\sum\\limits_{i=1}^{N - 1} \\Delta \\frac{d_i + d_{i+1}}{2}\n",
    "$$"
   ]
  },
  {
   "cell_type": "markdown",
   "metadata": {},
   "source": [
    "### Algoritmo\n",
    "\n",
    "Descreva abaixo o algoritmo utilizado (em português) para fazer a integração numérica utilizando a regra dos trapézios."
   ]
  },
  {
   "cell_type": "markdown",
   "metadata": {},
   "source": [
    "Para calcular a integral pelo somatório das áreas dos trapézios sabemos que devemos ultilizar o espaçamento entre os dados Δ multiplicado pelo somatório de di e d(i+1), isso tudo dividido por 2.\n"
   ]
  },
  {
   "cell_type": "markdown",
   "metadata": {},
   "source": [
    "### Implementação\n",
    "\n",
    "Vamos utilizar os mesmo dados utilizados na regra dos retângulos (na dúvida, rode novamente a célula que gera os dados). Abaixo, escreva e rode o código que faz a integração numérica com a regra dos trapézios. "
   ]
  },
  {
   "cell_type": "code",
   "execution_count": 14,
   "metadata": {
    "collapsed": false
   },
   "outputs": [
    {
     "name": "stdout",
     "output_type": "stream",
     "text": [
      "0.9999143605663631\n"
     ]
    }
   ],
   "source": [
    "som_2 = 0 \n",
    "for i in range(0,N-1,1): #i varia de 0 a N-1 pois a quantidade de trapézios gerados é o total de dados -1\n",
    "    som_2 = som_2 + (intervalo*(dados[i] + dados [i+1]))/2 #soma a som_2 os valores da fórmula pra cada valor de i diferente\n",
    "print(som_2)"
   ]
  },
  {
   "cell_type": "markdown",
   "metadata": {},
   "source": [
    "Calcule e imprima também a solução analíca e o erro cometido."
   ]
  },
  {
   "cell_type": "code",
   "execution_count": 16,
   "metadata": {
    "collapsed": false
   },
   "outputs": [
    {
     "name": "stdout",
     "output_type": "stream",
     "text": [
      "1.0\n"
     ]
    }
   ],
   "source": [
    "integral = math.sin(fim) - math.sin(inicio)\n",
    "print(integral)\n"
   ]
  },
  {
   "cell_type": "code",
   "execution_count": 17,
   "metadata": {
    "collapsed": false
   },
   "outputs": [
    {
     "name": "stdout",
     "output_type": "stream",
     "text": [
      "8.563943363693038e-05\n"
     ]
    }
   ],
   "source": [
    "dif = integral - som_2\n",
    "E = abs(dif)\n",
    "print(E)"
   ]
  },
  {
   "cell_type": "markdown",
   "metadata": {},
   "source": [
    "**Responda na célula abaixo:** O erro é maior ou menos que para a regra dos retângulos? Por que? Você esperava isso?"
   ]
  },
  {
   "cell_type": "markdown",
   "metadata": {},
   "source": [
    "O erro é menor, pois pela formula das áreas dos trapézios você consegue aderir uma maior área em baixo da curva. Sim."
   ]
  },
  {
   "cell_type": "markdown",
   "metadata": {},
   "source": [
    "### Resultado esperado\n",
    "\n",
    "Novamente, o valos esperado é 1 mas seu resultado não será exatamente 1 (mas deve estar entre 0.9 e 1.1)."
   ]
  },
  {
   "cell_type": "markdown",
   "metadata": {},
   "source": [
    "## Comparação dos dois métodos\n",
    "\n",
    "Vamos comparar o erro de ambos métodos. Uma comparação muito utilizada em métodos numéricos em geral é como o erro varia com o número de dados (ou pontos) utilizados.\n",
    "\n",
    "Nas células abaixo, calcule o erro da integração numérica para diferentes valores de `N`. Os valores de N deverão variar de 10 a 1000 de 10 em 10. Mantenha os intervalos de integração entre $0$ e $\\pi/2$. Faça esse cálculo para os dois métodos: retângulos e trapézios.\n",
    "\n",
    "Ao final, faça um gráfico do erro pelos valores de `N`. O gráfico deverá ter duas curvas, uma para cada método. O eixo y (erros) deverá estar em escala logarítmica.\n",
    "\n",
    "**Dicas**: \n",
    "\n",
    "* Gere uma lista dos valores de `N`.\n",
    "* Para colocar o eixo y em escala log: `plt.yscale('log')`"
   ]
  },
  {
   "cell_type": "code",
   "execution_count": 39,
   "metadata": {
    "collapsed": false
   },
   "outputs": [
    {
     "name": "stdout",
     "output_type": "stream",
     "text": [
      "Erros da Regra dos Retângulos=  [0.0847266943914422, 0.040767105040247165, 0.026838192538866323, 0.02000322554546985, 0.01594289451325004, 0.013252764278358642, 0.011339393980260404, 0.009908802562918373, 0.00879873989603741, 0.007912335532624493, 0.007188181326510001, 0.006585464592106627, 0.006076001791466723, 0.00563970433809069, 0.005261866997297915, 0.004931477824744235, 0.004640127186015031, 0.00438128192709053, 0.004149789644384283, 0.003941532222525579, 0.0037531787092359714, 0.0035820058140862976, 0.003425765383925139, 0.0032825851113535975, 0.0031508931435173526, 0.00302936013827404, 0.002916854231957755, 0.002812405682363739, 0.0027151788455863635, 0.002624449771287507, 0.0025395881446874657, 0.0024600426222460836, 0.0023853288395463412, 0.0023150195400292173, 0.002248736399520501, 0.002186143216111436, 0.0021269402066168563, 0.002070859205313136, 0.00201765960274769, 0.0019671248948447406, 0.0019190597379299401, 0.0018732874252085363, 0.001829647715960725, 0.001787994961260475, 0.001748196480003017, 0.0017101311470937297, 0.0016736881621586264, 0.0016387659723946513, 0.0016052713275187536, 0.0015731184482921101, 0.0015422282929982156, 0.001512527908692718, 0.0014839498559853226, 0.0014564316978256109, 0.0014299155441381828, 0.001404347645307391, 0.001379678028510689, 0.0013558601717083008, 0.0013328507108480991, 0.001310609176375932, 0.0012890977556891947, 0.0012682810786137644, 0.001248126023331464, 0.0012286015405325035, 0.0012096784937978278, 0.0011913295145344893, 0.0011735288698879742, 0.0011562523423511717, 0.001139477119834309, 0.0011231816951637885, 0.0011073457741057613, 0.0010919501910355844, 0.0010769768315614936, 0.0010624085614299172, 0.0010482291611080274, 0.0010344232655576935, 0.0010209763086852508, 0.0010078744720849464, 0.000995104637673938, 0.0009826543438742341, 0.0009705117450580225, 0.0009586655739537431, 0.0009471051067759806, 0.000935820130839593, 0.0009248009144739999, 0.0009140381790406771, 0.0009035230728589028, 0.0008932471469353942, 0.0008832023323319671, 0.0008733809190117903, 0.0008637755361204924, 0.0008543791335338113, 0.0008451849645951803, 0.0008361865699710869, 0.0008273777625127376, 0.0008187526130578604, 0.0008103054371433327, 0.0008020307824876394, 0.0007939234172813503, 0.0007859783191244141]\n",
      "Erros da Regra dos Trapézios=  [0.0025397682082738404, 0.0005696404017241363, 0.0002445027507007591, 0.00013518890061881006, 8.563943363693038e-05, 5.906899956420464e-05, 4.318809796277634e-05, 3.294634084627379e-05, 2.5958569102590978e-05, 2.0979249167996095e-05, 1.7306411080997286e-05, 1.451997425772067e-05, 1.2356064328145067e-05, 1.0642161171636744e-05, 9.261616107925086e-06, 8.133265805287948e-06, 7.199224621112776e-06, 6.417309767026147e-06, 5.756193697137313e-06, 5.1922166578455275e-06, 4.707240034318438e-06, 4.287169464323171e-06, 3.92091912060355e-06, 3.599672736442905e-06, 3.31634803851788e-06, 3.065203029284369e-06, 2.841542753984072e-06, 2.6414982718936386e-06, 2.4618582101787467e-06, 2.2999390710820578e-06, 2.1534844307780077e-06, 2.020585897044569e-06, 1.8996206285759598e-06, 1.7892015551357332e-06, 1.6881374356181311e-06, 1.595400594189833e-06, 1.510100692714289e-06, 1.4314632810208394e-06, 1.3588121559049426e-06, 1.291554774018877e-06, 1.2291701323441373e-06, 1.1711986513951445e-06, 1.1172336836784424e-06, 1.0669143584163265e-06, 1.0199195453752807e-06, 9.759627037642105e-07, 9.347875155052421e-07, 8.961641344562565e-07, 8.598859736475006e-07, 8.257669346090069e-07, 7.936390203910904e-07, 7.633502617787613e-07, 7.347629151777113e-07, 7.077518916487335e-07, 6.822033979947406e-07, 6.580137202893965e-07, 6.350881812666742e-07, 6.133402047359127e-07, 5.926905064512766e-07, 5.730663560354898e-07, 5.544009569202757e-07, 5.366328523770392e-07, 5.197054405714496e-07, 5.035665060493244e-07, 4.881678301593695e-07, 4.734648251236706e-07, 4.594162084092801e-07, 4.459837138481859e-07, 4.3313183184512383e-07, 4.2082757911732216e-07, 4.0904027487354e-07, 3.9774136650905234e-07, 3.869042363158215e-07, 3.7650406015110605e-07, 3.665176591116648e-07, 3.569233707478858e-07, 3.477009357100158e-07, 3.3883137784407324e-07, 3.302969248109022e-07, 3.220809053905427e-07, 3.141676699902618e-07, 3.065425266957078e-07, 2.9919165367431333e-07, 2.921020545443298e-07, 2.8526149364882514e-07, 2.7865844298702314e-07, 2.722820285905314e-07, 2.6612200232367655e-07, 2.601686767134126e-07, 2.544129107384663e-07, 2.488460568716988e-07, 2.434599375433777e-07, 2.3824681272266446e-07, 2.3319935338328435e-07, 2.283106133038615e-07, 2.2357401008310518e-07, 2.1898328750324936e-07, 2.1453252352365837e-07, 2.102160860939506e-07, 2.0602861949825524e-07]\n",
      "Valores de N =  [10, 20, 30, 40, 50, 60, 70, 80, 90, 100, 110, 120, 130, 140, 150, 160, 170, 180, 190, 200, 210, 220, 230, 240, 250, 260, 270, 280, 290, 300, 310, 320, 330, 340, 350, 360, 370, 380, 390, 400, 410, 420, 430, 440, 450, 460, 470, 480, 490, 500, 510, 520, 530, 540, 550, 560, 570, 580, 590, 600, 610, 620, 630, 640, 650, 660, 670, 680, 690, 700, 710, 720, 730, 740, 750, 760, 770, 780, 790, 800, 810, 820, 830, 840, 850, 860, 870, 880, 890, 900, 910, 920, 930, 940, 950, 960, 970, 980, 990, 1000]\n"
     ]
    }
   ],
   "source": [
    "# inicio e fim são os intervalos de integração\n",
    "inicio = 0\n",
    "fim = math.pi/2\n",
    "#Criação de listas vazias\n",
    "lista_intervalo = []\n",
    "lista_N = []\n",
    "erro_ret = []\n",
    "erro_trap = []\n",
    "#define N variando de 10 a 1000, de 10 em 10\n",
    "for N in range(10,1010,10): \n",
    "    intervalo = (fim - inicio)/(N - 1)\n",
    "    lista_intervalo.append(intervalo) #adiciona os valores de \"intervalo\" à lista \"lista_intervalo\"\n",
    "    tempos = []\n",
    "    dados = []\n",
    "    lista_N.append(N) #adiciona os valores de \"N\" à lista \"lista_N\"\n",
    "    \n",
    "#criação das listas de dados e tempos para cada N\n",
    "    for i in range(N): \n",
    "        t = inicio + i*intervalo\n",
    "        tempos.append(t) #adiciona os valores de t à lista \"tempos\"\n",
    "        dados.append(math.cos(t)) #adiciona os valores à lista \"dados\"\n",
    "        #variáveis som e som_2 que representam as integrais para a regra dos retângulos e dos trapézios respectivamente\n",
    "        som = 0\n",
    "        som_2 = 0\n",
    "        \n",
    "        \n",
    "    for x in range(0,N,1): #repetição do método dos triângulos\n",
    "        som = som + intervalo*dados[x] \n",
    "        dif = 1 - som\n",
    "        E_1 = abs(dif) #E_1 é o valor do erro pra integral por método do retângulo, diferente pra cada valor de x\n",
    "    erro_ret.append(E_1) #adiciona o valor do erro à lista \"erro_ret\"\n",
    "    \n",
    "    for y in range(0,N-1,1): #repetição do método dos trapézios\n",
    "        som_2 = som_2 + (intervalo*(dados[y] + dados [y+1]))/2\n",
    "        dif = 1 - som_2\n",
    "        E_2 = abs(dif) #E_2 é o valor do erro para a integral pelo método dos trapézios\n",
    "    erro_trap.append(E_2) #adiciona o valor do erro à lista \"erro_trap\"\n",
    "    \n",
    "print(\"Erros da Regra dos Retângulos= \", erro_ret)\n",
    "print(\"Erros da Regra dos Trapézios= \", erro_trap)\n",
    "print(\"Valores de N = \", lista_N)\n",
    "         "
   ]
  },
  {
   "cell_type": "code",
   "execution_count": 43,
   "metadata": {
    "collapsed": false
   },
   "outputs": [
    {
     "data": {
      "image/png": "[encoded data removed]",
      "text/plain": [
       "<matplotlib.figure.Figure at 0x76ffbe0>"
      ]
     },
     "metadata": {},
     "output_type": "display_data"
    }
   ],
   "source": [
    "plt.figure()\n",
    "plt.plot(lista_N, erro_ret, \"-b\", label=\"Retângulos\") #curva de erro por valores de N pelo método do retângulo\n",
    "plt.plot(lista_N, erro_trap, \"-r\", label=\"Trapézios\") #curva de erro por valores de N pelo método do trapézio\n",
    "plt.title(\"Erro de Integração Numérica\") #título do gráfico\n",
    "plt.xlabel(\"Número de Dados\") #legenda do eixo x\n",
    "plt.yscale(\"log\") #altera a escala do eixo y para a forma logarítmica\n",
    "plt.ylabel(\"Erro\") #legenda do eixo y\n",
    "legend = plt.legend(loc = \"upper right\", shadow = True, fontsize= \"x-large\")"
   ]
  },
  {
   "cell_type": "markdown",
   "metadata": {},
   "source": [
    "**Responda na célula abaixo**: Como o erro varia com `N` para os dois métodos? Aumentar o número de dados de 50 para 200 nos dá a mesma diminuição no erro que aumentar de 650 para 800? Sempre vale a pena utilizar mais dados (lembre-se que a escala é logarítmica)? "
   ]
  },
  {
   "cell_type": "markdown",
   "metadata": {},
   "source": []
  },
  {
   "cell_type": "markdown",
   "metadata": {},
   "source": [
    "Em ambos os valores do erro diminuem, no entanto para os trapézios a redução é maior pois a curva é mais acentuada. A queda é maior antes de estabilizar que a queda dos erros para os retângulos. \n",
    "A diminuição entre 50 e 200 é bem maior que a de 650 e 800. As curvas logarítmicas terminam em assíntotas, chega uma hora que param de diminuir sem nunca tocar o eixo x. Logo, o aumento de dados nem sempre vai ajudar na diminuição pois em certo ponto se estabiliza."
   ]
  },
  {
   "cell_type": "markdown",
   "metadata": {},
   "source": [
    "### Resultado esperado\n",
    "\n",
    "O gráfico ao final deverá ser parecido com:\n",
    "\n",
    "![images/erro-por-ndados.png](images/erro-por-ndados.png)"
   ]
  },
  {
   "cell_type": "markdown",
   "metadata": {},
   "source": [
    "## Tarefa bônus: Probabilidades\n",
    "\n",
    "Vamos assumir que uma variável aleatória $x$ segue uma [distribuição normal](https://en.wikipedia.org/wiki/Normal_distribution) com média zero e desvio padrão $\\sigma$. Isso quer dizer que a [densidade de probabilidade](https://en.wikipedia.org/wiki/Probability_density_function) para $x$ é\n",
    "\n",
    "$$\n",
    "f(x) = \\frac{1}{\\sigma\\sqrt{2\\pi}} \\exp \\left( -\\frac{x^2}{2 \\sigma^2} \\right)\n",
    "$$\n",
    "\n",
    "A probabilidade de $x$ cair no intervalo $[a, b]$ é dada por ([refência](https://en.wikipedia.org/wiki/Probability_distribution#Continuous_probability_distribution)):\n",
    "\n",
    "$$\n",
    "P(a \\leq x \\leq b) = \\int\\limits_a^b f(x) dx\n",
    "$$\n",
    "\n",
    "Calcule na célula abaixo qual é a probabilidade de $x$ estar entre $[-\\sigma, +\\sigma]$ para $\\sigma = 5$."
   ]
  },
  {
   "cell_type": "code",
   "execution_count": null,
   "metadata": {
    "collapsed": true
   },
   "outputs": [],
   "source": []
  }
 ],
 "metadata": {
  "kernelspec": {
   "display_name": "Python 3",
   "language": "python",
   "name": "python3"
  },
  "language_info": {
   "codemirror_mode": {
    "name": "ipython",
    "version": 3
   },
   "file_extension": ".py",
   "mimetype": "text/x-python",
   "name": "python",
   "nbconvert_exporter": "python",
   "pygments_lexer": "ipython3",
   "version": "3.4.3"
  }
 },
 "nbformat": 4,
 "nbformat_minor": 0
}
